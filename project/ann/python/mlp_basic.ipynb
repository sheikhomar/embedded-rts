{
 "cells": [
  {
   "cell_type": "code",
   "execution_count": 1,
   "metadata": {},
   "outputs": [
    {
     "name": "stderr",
     "output_type": "stream",
     "text": [
      "Using TensorFlow backend.\n"
     ]
    }
   ],
   "source": [
    "import numpy as np\n",
    "\n",
    "from keras.layers import Activation, Input, Dense\n",
    "from keras.models import Model"
   ]
  },
  {
   "cell_type": "code",
   "execution_count": 2,
   "metadata": {},
   "outputs": [],
   "source": [
    "from numpy.random import seed\n",
    "from tensorflow import set_random_seed\n",
    "seed(1)\n",
    "set_random_seed(2)"
   ]
  },
  {
   "cell_type": "markdown",
   "metadata": {},
   "source": [
    "# Build a model"
   ]
  },
  {
   "cell_type": "code",
   "execution_count": 3,
   "metadata": {},
   "outputs": [],
   "source": [
    "inputs = Input(name='input', shape=(10,))\n",
    "x = Dense(4, name='hidden', activation='relu')(inputs)\n",
    "x = Dense(5, name='output', activation='softmax')(x)\n",
    "model = Model(inputs=inputs, outputs=x)"
   ]
  },
  {
   "cell_type": "code",
   "execution_count": 4,
   "metadata": {},
   "outputs": [],
   "source": [
    "from hgen import write_model\n",
    "write_model(model, 'nn_simple_1.h')"
   ]
  },
  {
   "cell_type": "markdown",
   "metadata": {},
   "source": [
    "# Make predictions without training"
   ]
  },
  {
   "cell_type": "code",
   "execution_count": 5,
   "metadata": {},
   "outputs": [
    {
     "name": "stdout",
     "output_type": "stream",
     "text": [
      "ASSERT_EQ_FLOAT(0.000000000, result[0]);\n",
      "ASSERT_EQ_FLOAT(0.000000463, result[1]);\n",
      "ASSERT_EQ_FLOAT(0.000000000, result[2]);\n",
      "ASSERT_EQ_FLOAT(0.999777138, result[3]);\n",
      "ASSERT_EQ_FLOAT(0.000222383, result[4]);\n"
     ]
    }
   ],
   "source": [
    "x = np.array([100, 200, 100, 100, 400, 5, 4, 3, 2, 1])\n",
    "x = np.expand_dims(x, axis=0)\n",
    "\n",
    "y_pred = model.predict(x)\n",
    "for i in range(len(y_pred[0])):\n",
    "    res = y_pred[0][i]\n",
    "    print('ASSERT_EQ_FLOAT({0:.9f}, result[{1}]);'.format(res, i))"
   ]
  },
  {
   "cell_type": "code",
   "execution_count": 6,
   "metadata": {},
   "outputs": [
    {
     "name": "stdout",
     "output_type": "stream",
     "text": [
      "ASSERT_EQ_FLOAT(0.250500947, result[0]);\n",
      "ASSERT_EQ_FLOAT(0.141793743, result[1]);\n",
      "ASSERT_EQ_FLOAT(0.131344646, result[2]);\n",
      "ASSERT_EQ_FLOAT(0.264380723, result[3]);\n",
      "ASSERT_EQ_FLOAT(0.211979926, result[4]);\n"
     ]
    }
   ],
   "source": [
    "x = np.array([1, 0, 0, 0, 0, 0, 0, 0, 0, 0])\n",
    "x = np.expand_dims(x, axis=0)\n",
    "\n",
    "y_pred = model.predict(x)\n",
    "for i in range(len(y_pred[0])):\n",
    "    res = y_pred[0][i]\n",
    "    print('ASSERT_EQ_FLOAT({0:.9f}, result[{1}]);'.format(res, i))"
   ]
  }
 ],
 "metadata": {
  "kernelspec": {
   "display_name": "Python 3",
   "language": "python",
   "name": "python3"
  },
  "language_info": {
   "codemirror_mode": {
    "name": "ipython",
    "version": 3
   },
   "file_extension": ".py",
   "mimetype": "text/x-python",
   "name": "python",
   "nbconvert_exporter": "python",
   "pygments_lexer": "ipython3",
   "version": "3.6.6"
  }
 },
 "nbformat": 4,
 "nbformat_minor": 2
}
