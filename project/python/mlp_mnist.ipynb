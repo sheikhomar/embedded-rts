{
 "cells": [
  {
   "cell_type": "markdown",
   "metadata": {},
   "source": [
    "# MLP"
   ]
  },
  {
   "cell_type": "code",
   "execution_count": 1,
   "metadata": {},
   "outputs": [
    {
     "name": "stderr",
     "output_type": "stream",
     "text": [
      "Using TensorFlow backend.\n"
     ]
    }
   ],
   "source": [
    "import numpy as np\n",
    "import matplotlib.pyplot as plt\n",
    "\n",
    "import mnist as mnist\n",
    "from hgen import write_model, write_compressed_data_file\n",
    "\n",
    "import keras\n",
    "from keras.models import Sequential\n",
    "from keras.layers import Dense, Dropout\n",
    "\n",
    "%matplotlib inline"
   ]
  },
  {
   "cell_type": "code",
   "execution_count": 2,
   "metadata": {},
   "outputs": [],
   "source": [
    "from numpy.random import seed\n",
    "from tensorflow import set_random_seed\n",
    "seed(1)\n",
    "set_random_seed(2)"
   ]
  },
  {
   "cell_type": "code",
   "execution_count": 3,
   "metadata": {},
   "outputs": [],
   "source": [
    "# Reshape image data so each image is represented by one long array \n",
    "def prepare_input(arr):\n",
    "    arr = arr.reshape(arr.shape[0], arr.shape[1] * arr.shape[2])\n",
    "    \n",
    "    # Convert to input float32\n",
    "    arr = arr.astype('float32')\n",
    "\n",
    "    # Normalise input in the range [-1, 1] \n",
    "    arr = (arr-127.5) / 127.5\n",
    "\n",
    "    return arr\n",
    "\n",
    "def mem_usage(numpy_arr):\n",
    "    print('Uses {0:.2f} MB of memory'.format(numpy_arr.nbytes / 1024 / 1024))\n",
    "\n",
    "def select_ten_digits(labels):\n",
    "    image_indices = []\n",
    "    for number in range(10):\n",
    "        # Find indicies where elements equal to a specific number\n",
    "        indices = np.where(labels == number)[0]\n",
    "        rnd_idx = np.random.choice(indices, 1)[0]\n",
    "        image_indices.append(rnd_idx)\n",
    "    return image_indices\n",
    "\n",
    "def plot_ten_digits(images, indices):\n",
    "    num_rows = 2\n",
    "    num_columns = 5\n",
    "    fig, axes = plt.subplots(nrows=num_rows, ncols=num_columns, figsize=(10, 3))\n",
    "    for row in range(num_rows):\n",
    "        for column in range(num_columns):\n",
    "            img = images[indices[column + (row*num_columns)]]\n",
    "            axes[row][column].imshow(img, cmap='binary')"
   ]
  },
  {
   "cell_type": "code",
   "execution_count": 4,
   "metadata": {},
   "outputs": [],
   "source": [
    "X_original = mnist.train_images()\n",
    "y_original = mnist.train_labels()\n",
    "X_test_original = mnist.test_images()\n",
    "y_test_original = mnist.test_labels()"
   ]
  },
  {
   "cell_type": "markdown",
   "metadata": {},
   "source": [
    "---\n",
    "## Visual data"
   ]
  },
  {
   "cell_type": "code",
   "execution_count": 5,
   "metadata": {},
   "outputs": [
    {
     "data": {
      "text/plain": [
       "[443, 2013, 8707, 7130, 6488, 9478, 1676, 1260, 9967, 5622]"
      ]
     },
     "execution_count": 5,
     "metadata": {},
     "output_type": "execute_result"
    }
   ],
   "source": [
    "ten_indices = select_ten_digits(y_test_original)\n",
    "ten_indices"
   ]
  },
  {
   "cell_type": "code",
   "execution_count": 6,
   "metadata": {},
   "outputs": [
    {
     "data": {
      "image/png": "[encoded data removed]",
      "text/plain": [
       "<Figure size 720x216 with 10 Axes>"
      ]
     },
     "metadata": {
      "needs_background": "light"
     },
     "output_type": "display_data"
    }
   ],
   "source": [
    "plot_ten_digits(X_test_original, ten_indices)"
   ]
  },
  {
   "cell_type": "markdown",
   "metadata": {},
   "source": [
    "---\n",
    "## Prepare Data"
   ]
  },
  {
   "cell_type": "code",
   "execution_count": 7,
   "metadata": {},
   "outputs": [],
   "source": [
    "# Reshape and normalise input\n",
    "X = prepare_input(X_original)\n",
    "X_test = prepare_input(X_test_original)"
   ]
  },
  {
   "cell_type": "markdown",
   "metadata": {},
   "source": [
    "---\n",
    "## Export Data"
   ]
  },
  {
   "cell_type": "code",
   "execution_count": 37,
   "metadata": {},
   "outputs": [],
   "source": [
    "# Generates a C-file that contains 10 randomly selected images.\n",
    "inputs_to_export = X_test[ten_indices]\n",
    "file_name = 'ten_digits.h'\n",
    "f = open(file_name ,'w')\n",
    "\n",
    "N = inputs_to_export.shape[0]\n",
    "D = inputs_to_export.shape[1]\n",
    "f.write('unsigned int n_input  = {};\\n'.format(N))\n",
    "f.write('unsigned int n_dimensions  = {};\\n'.format(D))\n",
    "f.write('float inputs[{}][{}] = {{\\n'.format(N, D));\n",
    "for i in range(N):\n",
    "    if i > 0:\n",
    "        f.write('  ,\\n')\n",
    "    f.write('  {{ // Image {}\\n  '.format(i+1))\n",
    "    for j in range(D):\n",
    "        if j > 0:\n",
    "            f.write(',')\n",
    "        if (j+1) % 3 == 0:\n",
    "            f.write('\\n  ')\n",
    "        f.write('{0:20}'.format(inputs_to_export[i][j]))\n",
    "    f.write('\\n  }} // Image {} \\n'.format(i+1))\n",
    "f.write('};\\n')\n",
    "f.close()"
   ]
  },
  {
   "cell_type": "code",
   "execution_count": 9,
   "metadata": {},
   "outputs": [],
   "source": [
    "# N = 1000\n",
    "# write_data_file(X_test[0:N,], y_test_original[0:N], 'test_data.csv')\n",
    "write_compressed_data_file(X_test, y_test_original, 'gen/test_data.zip')"
   ]
  },
  {
   "cell_type": "markdown",
   "metadata": {},
   "source": [
    "---\n",
    "## Prepare for training"
   ]
  },
  {
   "cell_type": "code",
   "execution_count": 10,
   "metadata": {},
   "outputs": [],
   "source": [
    "num_classes = np.unique(y_original).shape[0]\n",
    "input_size = X.shape[1]\n",
    "\n",
    "# Convert class vectors to binary class matrices\n",
    "y = keras.utils.to_categorical(y_original, num_classes)\n",
    "y_test = keras.utils.to_categorical(y_test_original, num_classes)"
   ]
  },
  {
   "cell_type": "code",
   "execution_count": 11,
   "metadata": {},
   "outputs": [],
   "source": [
    "def train(model, model_name='model'):\n",
    "    model.compile(loss='categorical_crossentropy',\n",
    "              optimizer=keras.optimizers.SGD(momentum=0.9),\n",
    "              metrics=['accuracy'])\n",
    "    history = model.fit(X, y,\n",
    "                    batch_size=128,\n",
    "                    epochs=20,\n",
    "                    verbose=1,\n",
    "                    validation_data=(X_test, y_test))\n",
    "    model.save_weights('models/{}.hdf5'.format(model_name))"
   ]
  },
  {
   "cell_type": "code",
   "execution_count": 12,
   "metadata": {},
   "outputs": [
    {
     "name": "stdout",
     "output_type": "stream",
     "text": [
      "_________________________________________________________________\n",
      "Layer (type)                 Output Shape              Param #   \n",
      "=================================================================\n",
      "input_1 (InputLayer)         (None, 784)               0         \n",
      "_________________________________________________________________\n",
      "hidden (Dense)               (None, 32)                25120     \n",
      "_________________________________________________________________\n",
      "output (Dense)               (None, 10)                330       \n",
      "=================================================================\n",
      "Total params: 25,450\n",
      "Trainable params: 25,450\n",
      "Non-trainable params: 0\n",
      "_________________________________________________________________\n"
     ]
    }
   ],
   "source": [
    "from keras.layers import Input, Dense\n",
    "from keras.models import Model\n",
    "\n",
    "def create_mlp_3_layers_32():\n",
    "    inputs = Input(shape=(input_size,))\n",
    "    x = Dense(32, name='hidden', activation='relu')(inputs)\n",
    "    predictions = Dense(10, name='output', activation='softmax')(x)\n",
    "    model = Model(inputs=inputs, outputs=predictions)\n",
    "    return { 'model': model, 'name': 'mpl_3_layers_32' }\n",
    "\n",
    "mpl_3_layers_32 = create_mlp_3_layers_32()\n",
    "mpl_3_layers_32_model = mpl_3_layers_32['model']\n",
    "mpl_3_layers_32_model.summary()"
   ]
  },
  {
   "cell_type": "code",
   "execution_count": 13,
   "metadata": {},
   "outputs": [
    {
     "data": {
      "image/svg+xml": [
       "<svg height=\"221pt\" viewBox=\"0.00 0.00 337.00 221.00\" width=\"337pt\" xmlns=\"http://www.w3.org/2000/svg\" xmlns:xlink=\"http://www.w3.org/1999/xlink\">\n",
       "<g class=\"graph\" id=\"graph0\" transform=\"scale(1 1) rotate(0) translate(4 217)\">\n",
       "<title>G</title>\n",
       "<polygon fill=\"#ffffff\" points=\"-4,4 -4,-217 333,-217 333,4 -4,4\" stroke=\"transparent\"/>\n",
       "<!-- 140698928673344 -->\n",
       "<g class=\"node\" id=\"node1\">\n",
       "<title>140698928673344</title>\n",
       "<polygon fill=\"none\" points=\"0,-166.5 0,-212.5 329,-212.5 329,-166.5 0,-166.5\" stroke=\"#000000\"/>\n",
       "<text fill=\"#000000\" font-family=\"Times,serif\" font-size=\"14.00\" text-anchor=\"middle\" x=\"80\" y=\"-185.8\">input_1: InputLayer</text>\n",
       "<polyline fill=\"none\" points=\"160,-166.5 160,-212.5 \" stroke=\"#000000\"/>\n",
       "<text fill=\"#000000\" font-family=\"Times,serif\" font-size=\"14.00\" text-anchor=\"middle\" x=\"194\" y=\"-197.3\">input:</text>\n",
       "<polyline fill=\"none\" points=\"160,-189.5 228,-189.5 \" stroke=\"#000000\"/>\n",
       "<text fill=\"#000000\" font-family=\"Times,serif\" font-size=\"14.00\" text-anchor=\"middle\" x=\"194\" y=\"-174.3\">output:</text>\n",
       "<polyline fill=\"none\" points=\"228,-166.5 228,-212.5 \" stroke=\"#000000\"/>\n",
       "<text fill=\"#000000\" font-family=\"Times,serif\" font-size=\"14.00\" text-anchor=\"middle\" x=\"278.5\" y=\"-197.3\">(None, 784)</text>\n",
       "<polyline fill=\"none\" points=\"228,-189.5 329,-189.5 \" stroke=\"#000000\"/>\n",
       "<text fill=\"#000000\" font-family=\"Times,serif\" font-size=\"14.00\" text-anchor=\"middle\" x=\"278.5\" y=\"-174.3\">(None, 784)</text>\n",
       "</g>\n",
       "<!-- 140698928672896 -->\n",
       "<g class=\"node\" id=\"node2\">\n",
       "<title>140698928672896</title>\n",
       "<polygon fill=\"none\" points=\"20.5,-83.5 20.5,-129.5 308.5,-129.5 308.5,-83.5 20.5,-83.5\" stroke=\"#000000\"/>\n",
       "<text fill=\"#000000\" font-family=\"Times,serif\" font-size=\"14.00\" text-anchor=\"middle\" x=\"80\" y=\"-102.8\">hidden: Dense</text>\n",
       "<polyline fill=\"none\" points=\"139.5,-83.5 139.5,-129.5 \" stroke=\"#000000\"/>\n",
       "<text fill=\"#000000\" font-family=\"Times,serif\" font-size=\"14.00\" text-anchor=\"middle\" x=\"173.5\" y=\"-114.3\">input:</text>\n",
       "<polyline fill=\"none\" points=\"139.5,-106.5 207.5,-106.5 \" stroke=\"#000000\"/>\n",
       "<text fill=\"#000000\" font-family=\"Times,serif\" font-size=\"14.00\" text-anchor=\"middle\" x=\"173.5\" y=\"-91.3\">output:</text>\n",
       "<polyline fill=\"none\" points=\"207.5,-83.5 207.5,-129.5 \" stroke=\"#000000\"/>\n",
       "<text fill=\"#000000\" font-family=\"Times,serif\" font-size=\"14.00\" text-anchor=\"middle\" x=\"258\" y=\"-114.3\">(None, 784)</text>\n",
       "<polyline fill=\"none\" points=\"207.5,-106.5 308.5,-106.5 \" stroke=\"#000000\"/>\n",
       "<text fill=\"#000000\" font-family=\"Times,serif\" font-size=\"14.00\" text-anchor=\"middle\" x=\"258\" y=\"-91.3\">(None, 32)</text>\n",
       "</g>\n",
       "<!-- 140698928673344&#45;&gt;140698928672896 -->\n",
       "<g class=\"edge\" id=\"edge1\">\n",
       "<title>140698928673344-&gt;140698928672896</title>\n",
       "<path d=\"M164.5,-166.3799C164.5,-158.1745 164.5,-148.7679 164.5,-139.8786\" fill=\"none\" stroke=\"#000000\"/>\n",
       "<polygon fill=\"#000000\" points=\"168.0001,-139.784 164.5,-129.784 161.0001,-139.784 168.0001,-139.784\" stroke=\"#000000\"/>\n",
       "</g>\n",
       "<!-- 140698928673624 -->\n",
       "<g class=\"node\" id=\"node3\">\n",
       "<title>140698928673624</title>\n",
       "<polygon fill=\"none\" points=\"26,-.5 26,-46.5 303,-46.5 303,-.5 26,-.5\" stroke=\"#000000\"/>\n",
       "<text fill=\"#000000\" font-family=\"Times,serif\" font-size=\"14.00\" text-anchor=\"middle\" x=\"84.5\" y=\"-19.8\">output: Dense</text>\n",
       "<polyline fill=\"none\" points=\"143,-.5 143,-46.5 \" stroke=\"#000000\"/>\n",
       "<text fill=\"#000000\" font-family=\"Times,serif\" font-size=\"14.00\" text-anchor=\"middle\" x=\"177\" y=\"-31.3\">input:</text>\n",
       "<polyline fill=\"none\" points=\"143,-23.5 211,-23.5 \" stroke=\"#000000\"/>\n",
       "<text fill=\"#000000\" font-family=\"Times,serif\" font-size=\"14.00\" text-anchor=\"middle\" x=\"177\" y=\"-8.3\">output:</text>\n",
       "<polyline fill=\"none\" points=\"211,-.5 211,-46.5 \" stroke=\"#000000\"/>\n",
       "<text fill=\"#000000\" font-family=\"Times,serif\" font-size=\"14.00\" text-anchor=\"middle\" x=\"257\" y=\"-31.3\">(None, 32)</text>\n",
       "<polyline fill=\"none\" points=\"211,-23.5 303,-23.5 \" stroke=\"#000000\"/>\n",
       "<text fill=\"#000000\" font-family=\"Times,serif\" font-size=\"14.00\" text-anchor=\"middle\" x=\"257\" y=\"-8.3\">(None, 10)</text>\n",
       "</g>\n",
       "<!-- 140698928672896&#45;&gt;140698928673624 -->\n",
       "<g class=\"edge\" id=\"edge2\">\n",
       "<title>140698928672896-&gt;140698928673624</title>\n",
       "<path d=\"M164.5,-83.3799C164.5,-75.1745 164.5,-65.7679 164.5,-56.8786\" fill=\"none\" stroke=\"#000000\"/>\n",
       "<polygon fill=\"#000000\" points=\"168.0001,-56.784 164.5,-46.784 161.0001,-56.784 168.0001,-56.784\" stroke=\"#000000\"/>\n",
       "</g>\n",
       "</g>\n",
       "</svg>"
      ],
      "text/plain": [
       "<IPython.core.display.SVG object>"
      ]
     },
     "execution_count": 13,
     "metadata": {},
     "output_type": "execute_result"
    }
   ],
   "source": [
    "from IPython.display import SVG\n",
    "from keras.utils.vis_utils import model_to_dot\n",
    "\n",
    "SVG(model_to_dot(mpl_3_layers_32_model, show_shapes=True).create(prog='dot', format='svg'))"
   ]
  },
  {
   "cell_type": "markdown",
   "metadata": {},
   "source": [
    "---\n",
    "## Training"
   ]
  },
  {
   "cell_type": "code",
   "execution_count": 14,
   "metadata": {},
   "outputs": [
    {
     "name": "stdout",
     "output_type": "stream",
     "text": [
      "Train on 60000 samples, validate on 10000 samples\n",
      "Epoch 1/20\n",
      "60000/60000 [==============================] - 2s 25us/step - loss: 0.5254 - acc: 0.8362 - val_loss: 0.3082 - val_acc: 0.9053\n",
      "Epoch 2/20\n",
      "60000/60000 [==============================] - 2s 26us/step - loss: 0.3050 - acc: 0.9102 - val_loss: 0.2868 - val_acc: 0.9093\n",
      "Epoch 3/20\n",
      "60000/60000 [==============================] - 1s 22us/step - loss: 0.2671 - acc: 0.9211 - val_loss: 0.2449 - val_acc: 0.9282\n",
      "Epoch 4/20\n",
      "60000/60000 [==============================] - 1s 15us/step - loss: 0.2448 - acc: 0.9285 - val_loss: 0.2446 - val_acc: 0.9271\n",
      "Epoch 5/20\n",
      "60000/60000 [==============================] - 1s 16us/step - loss: 0.2283 - acc: 0.9331 - val_loss: 0.2137 - val_acc: 0.9368\n",
      "Epoch 6/20\n",
      "60000/60000 [==============================] - 1s 17us/step - loss: 0.2180 - acc: 0.9355 - val_loss: 0.2100 - val_acc: 0.9376\n",
      "Epoch 7/20\n",
      "60000/60000 [==============================] - 1s 21us/step - loss: 0.2079 - acc: 0.9383 - val_loss: 0.2163 - val_acc: 0.9340\n",
      "Epoch 8/20\n",
      "60000/60000 [==============================] - 1s 18us/step - loss: 0.2012 - acc: 0.9409 - val_loss: 0.1994 - val_acc: 0.9402\n",
      "Epoch 9/20\n",
      "60000/60000 [==============================] - 1s 18us/step - loss: 0.1920 - acc: 0.9441 - val_loss: 0.1993 - val_acc: 0.9404\n",
      "Epoch 10/20\n",
      "60000/60000 [==============================] - 1s 18us/step - loss: 0.1870 - acc: 0.9455 - val_loss: 0.2079 - val_acc: 0.9396\n",
      "Epoch 11/20\n",
      "60000/60000 [==============================] - 1s 17us/step - loss: 0.1833 - acc: 0.9460 - val_loss: 0.1868 - val_acc: 0.9469\n",
      "Epoch 12/20\n",
      "60000/60000 [==============================] - 1s 17us/step - loss: 0.1794 - acc: 0.9470 - val_loss: 0.1940 - val_acc: 0.9416\n",
      "Epoch 13/20\n",
      "60000/60000 [==============================] - 1s 18us/step - loss: 0.1759 - acc: 0.9488 - val_loss: 0.1903 - val_acc: 0.9415\n",
      "Epoch 14/20\n",
      "60000/60000 [==============================] - 1s 17us/step - loss: 0.1718 - acc: 0.9496 - val_loss: 0.1849 - val_acc: 0.9472\n",
      "Epoch 15/20\n",
      "60000/60000 [==============================] - 1s 17us/step - loss: 0.1681 - acc: 0.9500 - val_loss: 0.1915 - val_acc: 0.9438\n",
      "Epoch 16/20\n",
      "60000/60000 [==============================] - 1s 18us/step - loss: 0.1647 - acc: 0.9514 - val_loss: 0.1892 - val_acc: 0.9432\n",
      "Epoch 17/20\n",
      "60000/60000 [==============================] - 1s 17us/step - loss: 0.1620 - acc: 0.9515 - val_loss: 0.1744 - val_acc: 0.9489\n",
      "Epoch 18/20\n",
      "60000/60000 [==============================] - 1s 18us/step - loss: 0.1599 - acc: 0.9528 - val_loss: 0.1755 - val_acc: 0.9496\n",
      "Epoch 19/20\n",
      "60000/60000 [==============================] - 1s 18us/step - loss: 0.1575 - acc: 0.9541 - val_loss: 0.1728 - val_acc: 0.9502\n",
      "Epoch 20/20\n",
      "60000/60000 [==============================] - 1s 18us/step - loss: 0.1575 - acc: 0.9530 - val_loss: 0.1894 - val_acc: 0.9438\n"
     ]
    }
   ],
   "source": [
    "train(mpl_3_layers_32['model'], mpl_3_layers_32['name'])"
   ]
  },
  {
   "cell_type": "code",
   "execution_count": 21,
   "metadata": {},
   "outputs": [],
   "source": [
    "write_model(mpl_3_layers_32_model, 'nn_3_layers_32_neurons.h')"
   ]
  },
  {
   "cell_type": "markdown",
   "metadata": {},
   "source": [
    "---\n",
    "## Predictions"
   ]
  },
  {
   "cell_type": "code",
   "execution_count": 11,
   "metadata": {},
   "outputs": [
    {
     "data": {
      "text/plain": [
       "array([0., 0., 0., 0., 0., 0., 0., 1., 0., 0.], dtype=float32)"
      ]
     },
     "execution_count": 11,
     "metadata": {},
     "output_type": "execute_result"
    }
   ],
   "source": [
    "y_test[0]"
   ]
  },
  {
   "cell_type": "code",
   "execution_count": 12,
   "metadata": {},
   "outputs": [],
   "source": [
    "y_pred = mpl_3_layers_32_model.predict(x)"
   ]
  },
  {
   "cell_type": "code",
   "execution_count": 13,
   "metadata": {},
   "outputs": [
    {
     "name": "stdout",
     "output_type": "stream",
     "text": [
      "ASSERT_EQ_FLOAT(0.000001091, result[0]);\n",
      "ASSERT_EQ_FLOAT(0.000000000, result[1]);\n",
      "ASSERT_EQ_FLOAT(0.000027445, result[2]);\n",
      "ASSERT_EQ_FLOAT(0.000085699, result[3]);\n",
      "ASSERT_EQ_FLOAT(0.000000000, result[4]);\n",
      "ASSERT_EQ_FLOAT(0.000000037, result[5]);\n",
      "ASSERT_EQ_FLOAT(0.000000000, result[6]);\n",
      "ASSERT_EQ_FLOAT(0.999881625, result[7]);\n",
      "ASSERT_EQ_FLOAT(0.000003256, result[8]);\n",
      "ASSERT_EQ_FLOAT(0.000000857, result[9]);\n"
     ]
    }
   ],
   "source": [
    "for i in range(len(y_pred[0])):\n",
    "    res = y_pred[0][i]\n",
    "    print('ASSERT_EQ_FLOAT({0:.9f}, result[{1}]);'.format(res, i))"
   ]
  },
  {
   "cell_type": "code",
   "execution_count": 38,
   "metadata": {},
   "outputs": [],
   "source": [
    "predictions = mpl_3_layers_32_model.predict(X_test[ten_indices])"
   ]
  },
  {
   "cell_type": "code",
   "execution_count": 39,
   "metadata": {},
   "outputs": [
    {
     "data": {
      "text/plain": [
       "array([0, 1, 2, 3, 4, 5, 6, 1, 8, 9])"
      ]
     },
     "execution_count": 39,
     "metadata": {},
     "output_type": "execute_result"
    }
   ],
   "source": [
    "np.argmax(predictions, axis=1)"
   ]
  },
  {
   "cell_type": "markdown",
   "metadata": {},
   "source": [
    "---\n",
    "## Confusion Matrix"
   ]
  },
  {
   "cell_type": "code",
   "execution_count": 8,
   "metadata": {},
   "outputs": [],
   "source": [
    "import matplotlib.pyplot as plt\n",
    "import itertools\n",
    "from sklearn.metrics import classification_report, confusion_matrix\n",
    "\n",
    "def make_pretty_confusion_matrix(y_true, y_pred, classes, normalize=False):\n",
    "    \"\"\"\n",
    "    Mostly stolen from: http://scikit-learn.org/stable/auto_examples/model_selection/plot_confusion_matrix.html#sphx-glr-auto-examples-model-selection-plot-confusion-matrix-py\n",
    "\n",
    "    Normalization changed, classification_report stats added below plot\n",
    "    \"\"\"\n",
    "\n",
    "    cm = confusion_matrix(y_true, y_pred)\n",
    "    \n",
    "    fig, ax = plt.subplots(figsize=(10, 10))\n",
    "\n",
    "    # Configure Confusion Matrix Plot Aesthetics (no text yet) \n",
    "    ax.imshow(cm, interpolation='nearest', cmap=plt.cm.Blues)\n",
    "    ax.set_title('Confusion matrix', {'fontsize': 14})\n",
    "    tick_marks = np.arange(len(classes))\n",
    "    ax.set_xticks(tick_marks)\n",
    "    ax.set_xticklabels(classes)\n",
    "    ax.set_yticks(tick_marks)\n",
    "    ax.set_yticklabels(classes)\n",
    "    \n",
    "    ax.set_ylabel('True label', { 'fontsize': 12 })\n",
    "    ax.set_xlabel('Predicted label', { 'fontsize': 12})\n",
    "\n",
    "    # Calculate normalized values (so all cells sum to 1) if desired\n",
    "    if normalize:\n",
    "        cm = np.round(cm.astype('float') / cm.sum(),2) #(axis=1)[:, np.newaxis]\n",
    "\n",
    "    # Place Numbers as Text on Confusion Matrix Plot\n",
    "    thresh = cm.max() / 2.\n",
    "    for i, j in itertools.product(range(cm.shape[0]), range(cm.shape[1])):\n",
    "        ax.text(j, i, cm[i, j],\n",
    "                 horizontalalignment=\"center\",\n",
    "                 color=\"white\" if cm[i, j] > thresh else \"black\",\n",
    "                 fontsize=12)\n"
   ]
  },
  {
   "cell_type": "code",
   "execution_count": 9,
   "metadata": {},
   "outputs": [],
   "source": [
    "import pandas as pd\n",
    "df = pd.read_csv('data/prediction-results-float.csv', names=['y_true', 'y_pred'])"
   ]
  },
  {
   "cell_type": "code",
   "execution_count": 10,
   "metadata": {},
   "outputs": [
    {
     "data": {
      "text/html": [
       "<div>\n",
       "<style scoped>\n",
       "    .dataframe tbody tr th:only-of-type {\n",
       "        vertical-align: middle;\n",
       "    }\n",
       "\n",
       "    .dataframe tbody tr th {\n",
       "        vertical-align: top;\n",
       "    }\n",
       "\n",
       "    .dataframe thead th {\n",
       "        text-align: right;\n",
       "    }\n",
       "</style>\n",
       "<table border=\"1\" class=\"dataframe\">\n",
       "  <thead>\n",
       "    <tr style=\"text-align: right;\">\n",
       "      <th></th>\n",
       "      <th>y_true</th>\n",
       "      <th>y_pred</th>\n",
       "    </tr>\n",
       "  </thead>\n",
       "  <tbody>\n",
       "    <tr>\n",
       "      <th>0</th>\n",
       "      <td>7</td>\n",
       "      <td>7</td>\n",
       "    </tr>\n",
       "    <tr>\n",
       "      <th>1</th>\n",
       "      <td>2</td>\n",
       "      <td>2</td>\n",
       "    </tr>\n",
       "    <tr>\n",
       "      <th>2</th>\n",
       "      <td>1</td>\n",
       "      <td>1</td>\n",
       "    </tr>\n",
       "    <tr>\n",
       "      <th>3</th>\n",
       "      <td>0</td>\n",
       "      <td>0</td>\n",
       "    </tr>\n",
       "    <tr>\n",
       "      <th>4</th>\n",
       "      <td>4</td>\n",
       "      <td>4</td>\n",
       "    </tr>\n",
       "  </tbody>\n",
       "</table>\n",
       "</div>"
      ],
      "text/plain": [
       "   y_true  y_pred\n",
       "0       7       7\n",
       "1       2       2\n",
       "2       1       1\n",
       "3       0       0\n",
       "4       4       4"
      ]
     },
     "execution_count": 10,
     "metadata": {},
     "output_type": "execute_result"
    }
   ],
   "source": [
    "df.head()"
   ]
  },
  {
   "cell_type": "code",
   "execution_count": 11,
   "metadata": {},
   "outputs": [],
   "source": [
    "y_true = df['y_true']\n",
    "y_pred = df['y_pred']"
   ]
  },
  {
   "cell_type": "code",
   "execution_count": 12,
   "metadata": {},
   "outputs": [],
   "source": [
    "classes = list('%s' % i for i in range(10))"
   ]
  },
  {
   "cell_type": "code",
   "execution_count": 13,
   "metadata": {},
   "outputs": [
    {
     "data": {
      "image/png": "[encoded data removed]",
      "text/plain": [
       "<Figure size 720x720 with 1 Axes>"
      ]
     },
     "metadata": {
      "needs_background": "light"
     },
     "output_type": "display_data"
    }
   ],
   "source": [
    "make_pretty_confusion_matrix(y_true, y_pred, classes)"
   ]
  },
  {
   "cell_type": "code",
   "execution_count": 14,
   "metadata": {},
   "outputs": [
    {
     "name": "stdout",
     "output_type": "stream",
     "text": [
      "             precision    recall  f1-score   support\n",
      "\n",
      "          0       0.97      0.97      0.97       980\n",
      "          1       0.99      0.99      0.99      1135\n",
      "          2       0.94      0.97      0.96      1032\n",
      "          3       0.92      0.97      0.95      1010\n",
      "          4       0.96      0.95      0.96       982\n",
      "          5       0.94      0.95      0.94       892\n",
      "          6       0.97      0.96      0.96       958\n",
      "          7       0.95      0.96      0.95      1028\n",
      "          8       0.96      0.93      0.95       974\n",
      "          9       0.97      0.91      0.94      1009\n",
      "\n",
      "avg / total       0.96      0.96      0.96     10000\n",
      "\n"
     ]
    }
   ],
   "source": [
    "print(classification_report(y_true, y_pred))"
   ]
  },
  {
   "cell_type": "code",
   "execution_count": null,
   "metadata": {},
   "outputs": [],
   "source": []
  }
 ],
 "metadata": {
  "kernelspec": {
   "display_name": "Python 3",
   "language": "python",
   "name": "python3"
  },
  "language_info": {
   "codemirror_mode": {
    "name": "ipython",
    "version": 3
   },
   "file_extension": ".py",
   "mimetype": "text/x-python",
   "name": "python",
   "nbconvert_exporter": "python",
   "pygments_lexer": "ipython3",
   "version": "3.6.6"
  }
 },
 "nbformat": 4,
 "nbformat_minor": 2
}
