{
 "cells": [
  {
   "cell_type": "code",
   "execution_count": 3,
   "metadata": {},
   "outputs": [
    {
     "name": "stdout",
     "output_type": "stream",
     "text": [
      "Train on 60000 samples, validate on 10000 samples\n",
      "Epoch 1/20\n",
      "60000/60000 [==============================] - 1s 21us/step - loss: 0.4912 - acc: 0.8504 - val_loss: 0.2980 - val_acc: 0.9153\n",
      "Epoch 2/20\n",
      "60000/60000 [==============================] - 1s 16us/step - loss: 0.2869 - acc: 0.9166 - val_loss: 0.2632 - val_acc: 0.9220\n",
      "Epoch 3/20\n",
      "60000/60000 [==============================] - 1s 18us/step - loss: 0.2525 - acc: 0.9276 - val_loss: 0.2388 - val_acc: 0.9283\n",
      "Epoch 4/20\n",
      "60000/60000 [==============================] - 1s 17us/step - loss: 0.2325 - acc: 0.9331 - val_loss: 0.2330 - val_acc: 0.9290\n",
      "Epoch 5/20\n",
      "60000/60000 [==============================] - 1s 16us/step - loss: 0.2150 - acc: 0.9375 - val_loss: 0.2030 - val_acc: 0.9403\n",
      "Epoch 6/20\n",
      "60000/60000 [==============================] - 1s 17us/step - loss: 0.2030 - acc: 0.9405 - val_loss: 0.2008 - val_acc: 0.9397\n",
      "Epoch 7/20\n",
      "60000/60000 [==============================] - 1s 18us/step - loss: 0.1925 - acc: 0.9430 - val_loss: 0.1972 - val_acc: 0.9436\n",
      "Epoch 8/20\n",
      "60000/60000 [==============================] - 1s 17us/step - loss: 0.1859 - acc: 0.9455 - val_loss: 0.2026 - val_acc: 0.9385\n",
      "Epoch 9/20\n",
      "60000/60000 [==============================] - 1s 16us/step - loss: 0.1769 - acc: 0.9478 - val_loss: 0.1793 - val_acc: 0.9448\n",
      "Epoch 10/20\n",
      "60000/60000 [==============================] - 1s 17us/step - loss: 0.1711 - acc: 0.9490 - val_loss: 0.1772 - val_acc: 0.9445\n",
      "Epoch 11/20\n",
      "60000/60000 [==============================] - 1s 17us/step - loss: 0.1672 - acc: 0.9505 - val_loss: 0.1810 - val_acc: 0.9459\n",
      "Epoch 12/20\n",
      "60000/60000 [==============================] - 1s 17us/step - loss: 0.1627 - acc: 0.9510 - val_loss: 0.1770 - val_acc: 0.9460\n",
      "Epoch 13/20\n",
      "60000/60000 [==============================] - 1s 19us/step - loss: 0.1573 - acc: 0.9531 - val_loss: 0.1658 - val_acc: 0.9488\n",
      "Epoch 14/20\n",
      "60000/60000 [==============================] - 1s 16us/step - loss: 0.1528 - acc: 0.9548 - val_loss: 0.1633 - val_acc: 0.9491\n",
      "Epoch 15/20\n",
      "60000/60000 [==============================] - 1s 17us/step - loss: 0.1487 - acc: 0.9553 - val_loss: 0.1701 - val_acc: 0.9482\n",
      "Epoch 16/20\n",
      "60000/60000 [==============================] - 1s 18us/step - loss: 0.1451 - acc: 0.9566 - val_loss: 0.1585 - val_acc: 0.9503\n",
      "Epoch 17/20\n",
      "60000/60000 [==============================] - 1s 15us/step - loss: 0.1445 - acc: 0.9567 - val_loss: 0.1565 - val_acc: 0.9537\n",
      "Epoch 18/20\n",
      "60000/60000 [==============================] - 1s 18us/step - loss: 0.1413 - acc: 0.9583 - val_loss: 0.1573 - val_acc: 0.9528\n",
      "Epoch 19/20\n",
      "60000/60000 [==============================] - 1s 18us/step - loss: 0.1376 - acc: 0.9590 - val_loss: 0.1513 - val_acc: 0.9559\n",
      "Epoch 20/20\n",
      "60000/60000 [==============================] - 1s 17us/step - loss: 0.1361 - acc: 0.9598 - val_loss: 0.1570 - val_acc: 0.9527\n"
     ]
    },
    {
     "data": {
      "text/plain": [
       "<keras.callbacks.History at 0x7f093211c9b0>"
      ]
     },
     "execution_count": 3,
     "metadata": {},
     "output_type": "execute_result"
    }
   ],
   "source": [
    "import numpy as np\n",
    "import mnist as mnist\n",
    "import keras\n",
    "from keras.models import Sequential\n",
    "from keras.layers import Dense, Dropout\n",
    "from keras.layers import Input, Dense\n",
    "from keras.models import Model\n",
    "\n",
    "def prepare_input(arr):\n",
    "    arr = arr.reshape(arr.shape[0], arr.shape[1] * arr.shape[2])\n",
    "    arr = arr.astype('float32')\n",
    "    arr = (arr-127.5) / 127.5 # Normalise input in the range [-1, 1] \n",
    "    return arr\n",
    "\n",
    "X_original = mnist.train_images()\n",
    "y_original = mnist.train_labels()\n",
    "X_test_original = mnist.test_images()\n",
    "y_test_original = mnist.test_labels()\n",
    "\n",
    "# Reshape and normalise input\n",
    "X = prepare_input(X_original)\n",
    "X_test = prepare_input(X_test_original)\n",
    "\n",
    "num_classes = np.unique(y_original).shape[0]\n",
    "input_size = X.shape[1]\n",
    "\n",
    "# Convert class vectors to binary class matrices\n",
    "y = keras.utils.to_categorical(y_original, num_classes)\n",
    "y_test = keras.utils.to_categorical(y_test_original, num_classes)\n",
    "\n",
    "inputs = Input(shape=(input_size,))\n",
    "x = Dense(32, name='hidden', activation='relu')(inputs)\n",
    "predictions = Dense(10, name='output', activation='softmax')(x)\n",
    "model = Model(inputs=inputs, outputs=predictions)\n",
    "model.compile(loss='categorical_crossentropy', optimizer=keras.optimizers.SGD(momentum=0.9), metrics=['accuracy'])\n",
    "model.fit(X, y, batch_size=128, epochs=20, verbose=1, validation_data=(X_test, y_test))"
   ]
  },
  {
   "cell_type": "code",
   "execution_count": null,
   "metadata": {},
   "outputs": [],
   "source": []
  }
 ],
 "metadata": {
  "kernelspec": {
   "display_name": "Python 3",
   "language": "python",
   "name": "python3"
  },
  "language_info": {
   "codemirror_mode": {
    "name": "ipython",
    "version": 3
   },
   "file_extension": ".py",
   "mimetype": "text/x-python",
   "name": "python",
   "nbconvert_exporter": "python",
   "pygments_lexer": "ipython3",
   "version": "3.6.6"
  }
 },
 "nbformat": 4,
 "nbformat_minor": 2
}
